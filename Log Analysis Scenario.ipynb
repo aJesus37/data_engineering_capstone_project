{
 "cells": [
  {
   "cell_type": "markdown",
   "id": "899ba481-24ba-407b-8a4c-93b7978adc6e",
   "metadata": {},
   "source": [
    "# Log analysis Scenario"
   ]
  },
  {
   "cell_type": "markdown",
   "id": "110749c2-f47f-40a5-a69b-2618d9a3951e",
   "metadata": {},
   "source": [
    "Let's say you were manually looking at some logs and found a suspicious call to a malicious domain (in this case, we'll use \"pudim.com.br\").\n",
    "The code below shows how you could continue to investigate to find the source of the communication"
   ]
  },
  {
   "cell_type": "markdown",
   "id": "186570e2-4dbd-4006-b3a2-c1cc0750092f",
   "metadata": {},
   "source": [
    "### Import used libs and network data"
   ]
  },
  {
   "cell_type": "code",
   "execution_count": 1,
   "id": "6449c630-be4e-43b7-af32-8eba7d2b8c6f",
   "metadata": {},
   "outputs": [],
   "source": [
    "import pyspark.sql.functions as f\n",
    "import pyspark.sql.types as t\n",
    "import json"
   ]
  },
  {
   "cell_type": "markdown",
   "id": "4d805175-9496-4618-ae79-6e17b32e7320",
   "metadata": {},
   "source": [
    "Below we are importing the network data that contains all the communication. One important thing to notice is that\n",
    "these logs follow a uncommon format. The most valuable field is not well structured, so we are making a schema\n",
    "for this field on the fly, to be able to analyze it."
   ]
  },
  {
   "cell_type": "code",
   "execution_count": 2,
   "id": "ef972c30-e819-4f3a-ad2e-d588112da98a",
   "metadata": {},
   "outputs": [
    {
     "name": "stderr",
     "output_type": "stream",
     "text": [
      "21/11/15 19:25:45 WARN package: Truncated the string representation of a plan since it was too large. This behavior can be adjusted by setting 'spark.sql.debug.maxToStringFields'.\n"
     ]
    }
   ],
   "source": [
    "df_network_raw = spark.read.parquet('datalake/network_logs/').drop('host','tags').select('message_json.*','*')"
   ]
  },
  {
   "cell_type": "markdown",
   "id": "f9f4cec8-3b64-4335-9819-3c37d144150d",
   "metadata": {},
   "source": [
    "### Start log analysis, from DNS protocol"
   ]
  },
  {
   "cell_type": "code",
   "execution_count": 3,
   "id": "7116ec21-6be5-41f4-bf1b-2df2074abad3",
   "metadata": {},
   "outputs": [],
   "source": [
    "df_network_dns = df_network_raw\\\n",
    ".filter(f.col('query').isNotNull())\\\n",
    ".select(\n",
    "        \"AA\", \"RA\", \"RD\", \"TC\", \"TTLs\", \"Z\", \"answers\", \"`id.orig_h`\", \"`id.orig_p`\", \"`id.resp_h`\", \"`id.resp_p`\",\n",
    "        \"proto\", \"query\", \"rcode\", \"rcode_name\", \"rejected\", \"trans_id\", \"ts\", \"uid\"\n",
    ")"
   ]
  },
  {
   "cell_type": "code",
   "execution_count": 4,
   "id": "2761e8f8-582b-4080-a74c-f27db98f878d",
   "metadata": {},
   "outputs": [
    {
     "name": "stderr",
     "output_type": "stream",
     "text": [
      "                                                                                \r"
     ]
    },
    {
     "name": "stdout",
     "output_type": "stream",
     "text": [
      "+-----+-----+----+-----+-----+---+---------------+------------+---------+----------+---------+-----+------------+-----+----------+--------+--------+-------------------+------------------+\n",
      "|AA   |RA   |RD  |TC   |TTLs |Z  |answers        |id.orig_h   |id.orig_p|id.resp_h |id.resp_p|proto|query       |rcode|rcode_name|rejected|trans_id|ts                 |uid               |\n",
      "+-----+-----+----+-----+-----+---+---------------+------------+---------+----------+---------+-----+------------+-----+----------+--------+--------+-------------------+------------------+\n",
      "|false|false|true|false|null |0  |null           |172.16.0.134|50861    |172.16.0.2|53       |udp  |pudim.com.br|0    |NOERROR   |false   |60417   |1.635634832222794E9|CTXG322HuLUPytKwc |\n",
      "|false|true |true|false|[5.0]|0  |[54.207.20.104]|172.16.0.134|50861    |172.16.0.2|53       |udp  |pudim.com.br|0    |NOERROR   |false   |18691   |1.635634832222791E9|CTXG322HuLUPytKwc |\n",
      "|false|false|true|false|null |0  |null           |172.16.0.134|35484    |172.16.0.2|53       |udp  |pudim.com.br|0    |NOERROR   |false   |59958   |1.635631685424454E9|CeHptQ1GNHV5c6340h|\n",
      "|false|true |true|false|[5.0]|0  |[54.207.20.104]|172.16.0.134|35484    |172.16.0.2|53       |udp  |pudim.com.br|0    |NOERROR   |false   |60720   |1.635631685424452E9|CeHptQ1GNHV5c6340h|\n",
      "+-----+-----+----+-----+-----+---+---------------+------------+---------+----------+---------+-----+------------+-----+----------+--------+--------+-------------------+------------------+\n",
      "\n"
     ]
    }
   ],
   "source": [
    "df_network_dns.filter(f.col('query').rlike('.*pudim\\.com\\.br.*')).show(20, False)"
   ]
  },
  {
   "cell_type": "markdown",
   "id": "1b5a62b1-dbd7-4c04-8b90-9d637a61ef98",
   "metadata": {},
   "source": [
    "### After identifying the returned IP for the DNS (from the answers column), we can start looking at responses from this IP"
   ]
  },
  {
   "cell_type": "code",
   "execution_count": 5,
   "id": "546a2779-e0b2-41ae-87ec-c40d29f36fe0",
   "metadata": {},
   "outputs": [
    {
     "name": "stdout",
     "output_type": "stream",
     "text": [
      "+------------+------------+---------+-------------+---------+------+----------------+--------------------+---------------+-----------------+-----------+----------+----+-----------+-------------------+------------------+----+-----------+-------+\n",
      "|host        |id.orig_h   |id.orig_p|id.resp_h    |id.resp_p|method|request_body_len|resp_fuids          |resp_mime_types|response_body_len|status_code|status_msg|tags|trans_depth|ts                 |uid               |uri |user_agent |version|\n",
      "+------------+------------+---------+-------------+---------+------+----------------+--------------------+---------------+-----------------+-----------+----------+----+-----------+-------------------+------------------+----+-----------+-------+\n",
      "|pudim.com.br|172.16.0.134|55188    |54.207.20.104|80       |GET   |0               |[Fp2TGz3Q2LjDRBVrai]|[text/html]    |851              |200        |OK        |[]  |1          |1.635634832293271E9|CuJjgb3uRqWrdtGGJj|/   |curl/7.74.0|1.1    |\n",
      "|null        |172.16.0.134|55188    |54.207.20.104|80       |null  |null            |null                |null           |null             |null       |null      |null|null       |1.635634832276981E9|CuJjgb3uRqWrdtGGJj|null|null       |null   |\n",
      "|pudim.com.br|172.16.0.134|43244    |54.207.20.104|80       |GET   |0               |[FQ64TC2B1us6D4U88a]|[text/html]    |851              |200        |OK        |[]  |1          |1.635631685538555E9|CC4DqE4RjuzmLiSOM5|/   |curl/7.74.0|1.1    |\n",
      "|null        |172.16.0.134|43244    |54.207.20.104|80       |null  |null            |null                |null           |null             |null       |null      |null|null       |1.635631685523013E9|CC4DqE4RjuzmLiSOM5|null|null       |null   |\n",
      "+------------+------------+---------+-------------+---------+------+----------------+--------------------+---------------+-----------------+-----------+----------+----+-----------+-------------------+------------------+----+-----------+-------+\n",
      "\n"
     ]
    }
   ],
   "source": [
    "df_network_raw.filter(f.col('`id.resp_h`') == '54.207.20.104')\\\n",
    ".select(\n",
    "        \"host\", \"`id.orig_h`\", \"`id.orig_p`\", \"`id.resp_h`\", \"`id.resp_p`\", \"method\", \"request_body_len\", \"resp_fuids\", \"resp_mime_types\", \"response_body_len\", \"status_code\",\n",
    "        \"status_msg\", \"tags\", \"trans_depth\", \"ts\", \"uid\", \"uri\", \"user_agent\", \"version\"\n",
    ")\\\n",
    ".show(20, False)"
   ]
  },
  {
   "cell_type": "markdown",
   "id": "fbe0a411-d990-4a65-bbfe-3924978bc5a0",
   "metadata": {},
   "source": [
    "### By looking at the user_agent column we already have a clue as of what the application can be, but to make sure, we need to use the host logs"
   ]
  },
  {
   "cell_type": "code",
   "execution_count": 6,
   "id": "2d009b74-c166-47e1-bcad-877de1219054",
   "metadata": {},
   "outputs": [],
   "source": [
    "df_host = spark.read.parquet('datalake/host_logs')"
   ]
  },
  {
   "cell_type": "code",
   "execution_count": 7,
   "id": "609be583-89b8-4912-843d-cbb0b6b7e740",
   "metadata": {},
   "outputs": [
    {
     "name": "stdout",
     "output_type": "stream",
     "text": [
      "+-------+----------------+-------------+------------------------------------------+----+-----+-----+------------------------+-----------------+--------------------+\n",
      "|created|entity_id       |executable   |hash                                      |name|pid  |ppid |start                   |working_directory|args_str            |\n",
      "+-------+----------------+-------------+------------------------------------------+----+-----+-----+------------------------+-----------------+--------------------+\n",
      "|null   |o3Znp1u/2VGxbpi4|/usr/bin/curl|{ef1137f1880a99cb150c5cdc9b5032bfc56713c5}|curl|31626|28809|2021-10-30T23:00:32.060Z|/                |curl,-L,pudim.com.br|\n",
      "+-------+----------------+-------------+------------------------------------------+----+-----+-----+------------------------+-----------------+--------------------+\n",
      "\n"
     ]
    }
   ],
   "source": [
    "df_host\\\n",
    ".filter(f.col('event.action') == 'process_started')\\\n",
    ".select('process.*')\\\n",
    ".select('*',f.concat_ws(',', 'args').alias('args_str'))\\\n",
    ".filter((f.col('args_str').rlike('.*pudim.*')) | f.col('args_str').rlike('.*54\\.207\\.20\\.104.*'))\\\n",
    ".drop('args')\\\n",
    ".show(100, False)"
   ]
  },
  {
   "cell_type": "markdown",
   "id": "5569edf8-ab2c-4e87-981a-7d56bd9a4225",
   "metadata": {},
   "source": [
    "### Conclusion\n",
    "And that's it, we found the culprit: `curl`. If we wanted to go even further, we could search for the `ppid` (parent process id) to check what exactly called this curl and understand the motivation for this, but for the purpose of this demo, we'll end up here.\n",
    "\n",
    "**Steps we made:**\n",
    "1. From a given URL, we translated the IP that the domain had at the time of the query\n",
    "2. From the IP resolved from the name, we found responses to the host machine\n",
    "3. On the logs from the host machine, we found the executable that made the request to this malicious domain"
   ]
  }
 ],
 "metadata": {
  "kernelspec": {
   "display_name": "Python 3 (ipykernel)",
   "language": "python",
   "name": "python3"
  },
  "language_info": {
   "codemirror_mode": {
    "name": "ipython",
    "version": 3
   },
   "file_extension": ".py",
   "mimetype": "text/x-python",
   "name": "python",
   "nbconvert_exporter": "python",
   "pygments_lexer": "ipython3",
   "version": "3.7.3"
  }
 },
 "nbformat": 4,
 "nbformat_minor": 5
}
