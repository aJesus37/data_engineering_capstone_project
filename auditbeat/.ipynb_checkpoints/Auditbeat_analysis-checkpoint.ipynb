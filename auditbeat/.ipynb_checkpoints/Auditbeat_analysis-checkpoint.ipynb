{
 "cells": [
  {
   "cell_type": "code",
   "execution_count": 4,
   "id": "4dce3d6f-f645-40fa-a4f7-f4d2193eb778",
   "metadata": {},
   "outputs": [],
   "source": [
    "import pyspark.sql.functions as f\n",
    "import pandas as pd\n",
    "pd.options.display.max_seq_items = 2000"
   ]
  },
  {
   "cell_type": "code",
   "execution_count": 2,
   "id": "5d3e805f-cf74-4707-b106-06055cae5a76",
   "metadata": {},
   "outputs": [
    {
     "name": "stderr",
     "output_type": "stream",
     "text": [
      "                                                                                \r"
     ]
    }
   ],
   "source": [
    "df = spark.read.json('logs')"
   ]
  },
  {
   "cell_type": "code",
   "execution_count": null,
   "id": "126b4af3-a33e-4429-80a6-b64243707cd4",
   "metadata": {},
   "outputs": [],
   "source": [
    "df.printSchema()"
   ]
  },
  {
   "cell_type": "code",
   "execution_count": 3,
   "id": "d5691a03-b00a-4f59-9207-73e6343c75c4",
   "metadata": {},
   "outputs": [
    {
     "data": {
      "text/plain": [
       "84856"
      ]
     },
     "execution_count": 3,
     "metadata": {},
     "output_type": "execute_result"
    }
   ],
   "source": [
    "df.count()"
   ]
  },
  {
   "cell_type": "code",
   "execution_count": 5,
   "id": "d2fd58db-5f3e-445e-883c-eb57aae2fd2a",
   "metadata": {},
   "outputs": [
    {
     "name": "stdout",
     "output_type": "stream",
     "text": [
      "+------------------------+-------+----------------+-------------+------------------------------------------+----+-----+-----+------------------------+-----------------+--------------------+\n",
      "|args                    |created|entity_id       |executable   |hash                                      |name|pid  |ppid |start                   |working_directory|args_str            |\n",
      "+------------------------+-------+----------------+-------------+------------------------------------------+----+-----+-----+------------------------+-----------------+--------------------+\n",
      "|[curl, -L, pudim.com.br]|null   |o3Znp1u/2VGxbpi4|/usr/bin/curl|{ef1137f1880a99cb150c5cdc9b5032bfc56713c5}|curl|31626|28809|2021-10-30T23:00:32.060Z|/                |curl,-L,pudim.com.br|\n",
      "+------------------------+-------+----------------+-------------+------------------------------------------+----+-----+-----+------------------------+-----------------+--------------------+\n",
      "\n"
     ]
    }
   ],
   "source": [
    "df\\\n",
    ".filter(f.col('event.action') == 'process_started')\\\n",
    ".select('process.*')\\\n",
    ".select('*',f.concat_ws(',', 'args').alias('args_str'))\\\n",
    ".filter(f.col('args_str').rlike('.*pudim.*'))\\\n",
    ".show(100, False)"
   ]
  },
  {
   "cell_type": "code",
   "execution_count": 19,
   "id": "a1e68330-65c7-438d-96d3-2d71ab99f0f3",
   "metadata": {},
   "outputs": [
    {
     "name": "stdout",
     "output_type": "stream",
     "text": [
      "+-----------------------+-----+\n",
      "|name                   |count|\n",
      "+-----------------------+-----+\n",
      "|coredns                |48738|\n",
      "|k3s-server             |25823|\n",
      "|null                   |3472 |\n",
      "|traefik                |2031 |\n",
      "|ksoftirqd/0            |1591 |\n",
      "|metrics-server         |651  |\n",
      "|local-path-provisioner |651  |\n",
      "|helm_v3                |365  |\n",
      "|kubectl                |292  |\n",
      "|dockerd                |204  |\n",
      "|dnf                    |180  |\n",
      "|containerd             |142  |\n",
      "|kworker/0:1H-kblockd   |65   |\n",
      "|apache2                |52   |\n",
      "|containerd-shim-runc-v2|46   |\n",
      "|sh                     |36   |\n",
      "|containerd-shim        |35   |\n",
      "|curl                   |34   |\n",
      "|pause                  |25   |\n",
      "|unpigz                 |22   |\n",
      "+-----------------------+-----+\n",
      "only showing top 20 rows\n",
      "\n"
     ]
    }
   ],
   "source": [
    "df.groupBy('process.name').count().sort(f.col('count').desc()).show(20, False)"
   ]
  }
 ],
 "metadata": {
  "kernelspec": {
   "display_name": "Python 3 (ipykernel)",
   "language": "python",
   "name": "python3"
  },
  "language_info": {
   "codemirror_mode": {
    "name": "ipython",
    "version": 3
   },
   "file_extension": ".py",
   "mimetype": "text/x-python",
   "name": "python",
   "nbconvert_exporter": "python",
   "pygments_lexer": "ipython3",
   "version": "3.7.3"
  }
 },
 "nbformat": 4,
 "nbformat_minor": 5
}
