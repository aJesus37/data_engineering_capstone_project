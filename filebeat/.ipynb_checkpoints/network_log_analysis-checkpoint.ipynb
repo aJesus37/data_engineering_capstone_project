{
 "cells": [
  {
   "cell_type": "code",
   "execution_count": 1,
   "id": "c445b74a-9a05-479d-9ef2-f98fad2829a2",
   "metadata": {},
   "outputs": [],
   "source": [
    "import pyspark.sql.functions as f\n",
    "import pyspark.sql.types as t\n",
    "import json\n",
    "from pyspark.sql.functions import from_json, col"
   ]
  },
  {
   "cell_type": "code",
   "execution_count": 2,
   "id": "c9288c3d-8092-4ca5-8f6d-111273b8c893",
   "metadata": {},
   "outputs": [
    {
     "name": "stderr",
     "output_type": "stream",
     "text": [
      "                                                                                \r"
     ]
    }
   ],
   "source": [
    "df = spark.read.json('logs')"
   ]
  },
  {
   "cell_type": "markdown",
   "id": "28d70b50-1cd8-4cce-a5ac-50f61281f4d5",
   "metadata": {},
   "source": [
    "The following line gets the schema of every *.message of every line of the dataframe, and creates the schema to be able to read it as something complex, a.k.a. something not very well structured"
   ]
  },
  {
   "cell_type": "code",
   "execution_count": 3,
   "id": "7cb1b733-9faa-4b79-a627-bef09bd48d3b",
   "metadata": {},
   "outputs": [
    {
     "name": "stderr",
     "output_type": "stream",
     "text": [
      "                                                                                \r"
     ]
    }
   ],
   "source": [
    "json_schema = spark.read.json(df.rdd.map(lambda row: row.message)).schema"
   ]
  },
  {
   "cell_type": "code",
   "execution_count": 4,
   "id": "c8353c06-21bb-48e7-b6ee-883e291084b8",
   "metadata": {},
   "outputs": [
    {
     "name": "stderr",
     "output_type": "stream",
     "text": [
      "21/11/15 20:09:43 WARN package: Truncated the string representation of a plan since it was too large. This behavior can be adjusted by setting 'spark.sql.debug.maxToStringFields'.\n"
     ]
    }
   ],
   "source": [
    "df2 = df.withColumn('message_json', from_json(f.col('message'), json_schema)).select(f.col('message_json.*'))"
   ]
  },
  {
   "cell_type": "code",
   "execution_count": 5,
   "id": "857acac2-c4a5-4a7a-bbb2-2f9e0ad8cf33",
   "metadata": {
    "scrolled": true,
    "tags": []
   },
   "outputs": [
    {
     "name": "stdout",
     "output_type": "stream",
     "text": [
      "root\n",
      " |-- AA: boolean (nullable = true)\n",
      " |-- RA: boolean (nullable = true)\n",
      " |-- RD: boolean (nullable = true)\n",
      " |-- TC: boolean (nullable = true)\n",
      " |-- TTLs: array (nullable = true)\n",
      " |    |-- element: double (containsNull = true)\n",
      " |-- Z: long (nullable = true)\n",
      " |-- _corrupt_record: string (nullable = true)\n",
      " |-- acks: long (nullable = true)\n",
      " |-- actions: array (nullable = true)\n",
      " |    |-- element: string (containsNull = true)\n",
      " |-- active_dns_requests: long (nullable = true)\n",
      " |-- active_files: long (nullable = true)\n",
      " |-- active_icmp_conns: long (nullable = true)\n",
      " |-- active_tcp_conns: long (nullable = true)\n",
      " |-- active_timers: long (nullable = true)\n",
      " |-- active_udp_conns: long (nullable = true)\n",
      " |-- addl: string (nullable = true)\n",
      " |-- analyzers: array (nullable = true)\n",
      " |    |-- element: string (containsNull = true)\n",
      " |-- answers: array (nullable = true)\n",
      " |    |-- element: string (containsNull = true)\n",
      " |-- assigned_addr: string (nullable = true)\n",
      " |-- auth_attempts: long (nullable = true)\n",
      " |-- basic_constraints.ca: boolean (nullable = true)\n",
      " |-- bytes_recv: long (nullable = true)\n",
      " |-- cert_chain_fuids: array (nullable = true)\n",
      " |    |-- element: string (containsNull = true)\n",
      " |-- certificate.curve: string (nullable = true)\n",
      " |-- certificate.exponent: string (nullable = true)\n",
      " |-- certificate.issuer: string (nullable = true)\n",
      " |-- certificate.key_alg: string (nullable = true)\n",
      " |-- certificate.key_length: long (nullable = true)\n",
      " |-- certificate.key_type: string (nullable = true)\n",
      " |-- certificate.not_valid_after: double (nullable = true)\n",
      " |-- certificate.not_valid_before: double (nullable = true)\n",
      " |-- certificate.serial: string (nullable = true)\n",
      " |-- certificate.sig_alg: string (nullable = true)\n",
      " |-- certificate.subject: string (nullable = true)\n",
      " |-- certificate.version: long (nullable = true)\n",
      " |-- cipher: string (nullable = true)\n",
      " |-- client: string (nullable = true)\n",
      " |-- client_addr: string (nullable = true)\n",
      " |-- client_cert_chain_fuids: array (nullable = true)\n",
      " |    |-- element: string (containsNull = true)\n",
      " |-- conn_state: string (nullable = true)\n",
      " |-- conn_uids: array (nullable = true)\n",
      " |    |-- element: string (containsNull = true)\n",
      " |-- curve: string (nullable = true)\n",
      " |-- depth: long (nullable = true)\n",
      " |-- dns_requests: long (nullable = true)\n",
      " |-- domain: string (nullable = true)\n",
      " |-- dst: string (nullable = true)\n",
      " |-- duration: double (nullable = true)\n",
      " |-- established: boolean (nullable = true)\n",
      " |-- events_proc: long (nullable = true)\n",
      " |-- events_queued: long (nullable = true)\n",
      " |-- files: long (nullable = true)\n",
      " |-- filter: string (nullable = true)\n",
      " |-- fuid: string (nullable = true)\n",
      " |-- gaps: long (nullable = true)\n",
      " |-- history: string (nullable = true)\n",
      " |-- host: string (nullable = true)\n",
      " |-- icmp_conns: long (nullable = true)\n",
      " |-- id: string (nullable = true)\n",
      " |-- id.orig_h: string (nullable = true)\n",
      " |-- id.orig_p: long (nullable = true)\n",
      " |-- id.resp_h: string (nullable = true)\n",
      " |-- id.resp_p: long (nullable = true)\n",
      " |-- info_code: long (nullable = true)\n",
      " |-- info_msg: string (nullable = true)\n",
      " |-- init: boolean (nullable = true)\n",
      " |-- is_orig: boolean (nullable = true)\n",
      " |-- issuer: string (nullable = true)\n",
      " |-- last_alert: string (nullable = true)\n",
      " |-- lease_time: double (nullable = true)\n",
      " |-- level: string (nullable = true)\n",
      " |-- local_orig: boolean (nullable = true)\n",
      " |-- local_resp: boolean (nullable = true)\n",
      " |-- location: string (nullable = true)\n",
      " |-- mac: string (nullable = true)\n",
      " |-- md5: string (nullable = true)\n",
      " |-- mem: long (nullable = true)\n",
      " |-- message: string (nullable = true)\n",
      " |-- method: string (nullable = true)\n",
      " |-- mime_type: string (nullable = true)\n",
      " |-- missed_bytes: long (nullable = true)\n",
      " |-- missing_bytes: long (nullable = true)\n",
      " |-- msg: string (nullable = true)\n",
      " |-- msg_types: array (nullable = true)\n",
      " |    |-- element: string (containsNull = true)\n",
      " |-- name: string (nullable = true)\n",
      " |-- next_protocol: string (nullable = true)\n",
      " |-- node: string (nullable = true)\n",
      " |-- note: string (nullable = true)\n",
      " |-- notice: boolean (nullable = true)\n",
      " |-- orig_bytes: long (nullable = true)\n",
      " |-- orig_ip_bytes: long (nullable = true)\n",
      " |-- orig_pkts: long (nullable = true)\n",
      " |-- overflow_bytes: long (nullable = true)\n",
      " |-- p: long (nullable = true)\n",
      " |-- peer: string (nullable = true)\n",
      " |-- percent_lost: double (nullable = true)\n",
      " |-- pkt_lag: double (nullable = true)\n",
      " |-- pkts_dropped: long (nullable = true)\n",
      " |-- pkts_link: long (nullable = true)\n",
      " |-- pkts_proc: long (nullable = true)\n",
      " |-- port_num: long (nullable = true)\n",
      " |-- port_proto: string (nullable = true)\n",
      " |-- proto: string (nullable = true)\n",
      " |-- qclass: long (nullable = true)\n",
      " |-- qclass_name: string (nullable = true)\n",
      " |-- qtype: long (nullable = true)\n",
      " |-- qtype_name: string (nullable = true)\n",
      " |-- query: string (nullable = true)\n",
      " |-- rcode: long (nullable = true)\n",
      " |-- rcode_name: string (nullable = true)\n",
      " |-- reassem_file_size: long (nullable = true)\n",
      " |-- reassem_frag_size: long (nullable = true)\n",
      " |-- reassem_tcp_size: long (nullable = true)\n",
      " |-- reassem_unknown_size: long (nullable = true)\n",
      " |-- referrer: string (nullable = true)\n",
      " |-- rejected: boolean (nullable = true)\n",
      " |-- request_body_len: long (nullable = true)\n",
      " |-- requested_addr: string (nullable = true)\n",
      " |-- resp_bytes: long (nullable = true)\n",
      " |-- resp_fuids: array (nullable = true)\n",
      " |    |-- element: string (containsNull = true)\n",
      " |-- resp_ip_bytes: long (nullable = true)\n",
      " |-- resp_mime_types: array (nullable = true)\n",
      " |    |-- element: string (containsNull = true)\n",
      " |-- resp_pkts: long (nullable = true)\n",
      " |-- response_body_len: long (nullable = true)\n",
      " |-- resumed: boolean (nullable = true)\n",
      " |-- rtt: double (nullable = true)\n",
      " |-- rx_hosts: array (nullable = true)\n",
      " |    |-- element: string (containsNull = true)\n",
      " |-- san.dns: array (nullable = true)\n",
      " |    |-- element: string (containsNull = true)\n",
      " |-- san.ip: array (nullable = true)\n",
      " |    |-- element: string (containsNull = true)\n",
      " |-- seen_bytes: long (nullable = true)\n",
      " |-- server_addr: string (nullable = true)\n",
      " |-- server_name: string (nullable = true)\n",
      " |-- service: string (nullable = true)\n",
      " |-- sha1: string (nullable = true)\n",
      " |-- sha256: string (nullable = true)\n",
      " |-- software_type: string (nullable = true)\n",
      " |-- source: string (nullable = true)\n",
      " |-- src: string (nullable = true)\n",
      " |-- status_code: long (nullable = true)\n",
      " |-- status_msg: string (nullable = true)\n",
      " |-- sub: string (nullable = true)\n",
      " |-- subject: string (nullable = true)\n",
      " |-- success: boolean (nullable = true)\n",
      " |-- suppress_for: double (nullable = true)\n",
      " |-- tags: array (nullable = true)\n",
      " |    |-- element: string (containsNull = true)\n",
      " |-- tcp_conns: long (nullable = true)\n",
      " |-- timedout: boolean (nullable = true)\n",
      " |-- timers: long (nullable = true)\n",
      " |-- total_bytes: long (nullable = true)\n",
      " |-- trans_depth: long (nullable = true)\n",
      " |-- trans_id: long (nullable = true)\n",
      " |-- ts: double (nullable = true)\n",
      " |-- ts_delta: double (nullable = true)\n",
      " |-- tx_hosts: array (nullable = true)\n",
      " |    |-- element: string (containsNull = true)\n",
      " |-- udp_conns: long (nullable = true)\n",
      " |-- uid: string (nullable = true)\n",
      " |-- uids: array (nullable = true)\n",
      " |    |-- element: string (containsNull = true)\n",
      " |-- unparsed_version: string (nullable = true)\n",
      " |-- uri: string (nullable = true)\n",
      " |-- user_agent: string (nullable = true)\n",
      " |-- validation_status: string (nullable = true)\n",
      " |-- version: string (nullable = true)\n",
      " |-- version.addl: string (nullable = true)\n",
      " |-- version.major: long (nullable = true)\n",
      " |-- version.minor: long (nullable = true)\n",
      " |-- version.minor2: long (nullable = true)\n",
      "\n"
     ]
    }
   ],
   "source": [
    "df2.printSchema()"
   ]
  },
  {
   "cell_type": "code",
   "execution_count": 6,
   "id": "bc6ce518-3943-4b85-8d40-60a096a2ecf7",
   "metadata": {},
   "outputs": [
    {
     "name": "stderr",
     "output_type": "stream",
     "text": [
      "                                                                                \r"
     ]
    },
    {
     "data": {
      "text/plain": [
       "1000560"
      ]
     },
     "execution_count": 6,
     "metadata": {},
     "output_type": "execute_result"
    }
   ],
   "source": [
    "df2.count()"
   ]
  },
  {
   "cell_type": "markdown",
   "id": "57860c4f-78a9-4864-b0cf-70f54e29e0a0",
   "metadata": {
    "tags": []
   },
   "source": [
    "## HTTP Analysis"
   ]
  },
  {
   "cell_type": "code",
   "execution_count": 7,
   "id": "4dc6c302-d181-4b3c-8618-6fe799653972",
   "metadata": {},
   "outputs": [],
   "source": [
    "df_http = df2\\\n",
    ".filter(f.col('method').isNotNull())\\\n",
    ".select(\n",
    "        \"host\", \"`id.orig_h`\", \"`id.orig_p`\", \"`id.resp_h`\", \"`id.resp_p`\", \"method\", \"request_body_len\",\n",
    "        \"response_body_len\", \"tags\", \"trans_depth\", \"ts\", \"uid\", \"uri\", \"user_agent\"\n",
    ")"
   ]
  },
  {
   "cell_type": "code",
   "execution_count": 8,
   "id": "8143759c-aba1-4f7c-acfa-08c0fa2357a5",
   "metadata": {},
   "outputs": [],
   "source": [
    "df_http_response = df2\\\n",
    ".filter((f.col('`id.resp_p`') == '80') & (f.col('status_code').isNotNull()))\\\n",
    ".select (\n",
    "        \"`id.orig_h`\", \"`id.orig_p`\", \"`id.resp_h`\", \"`id.resp_p`\", \"request_body_len\", \"response_body_len\",\n",
    "        \"status_code\", \"status_msg\", \"tags\", \"trans_depth\", \"ts\", \"uid\", \"version\"\n",
    ")"
   ]
  },
  {
   "cell_type": "code",
   "execution_count": 9,
   "id": "f9f9eaa9-0241-4b35-9e8f-776279997fbf",
   "metadata": {},
   "outputs": [
    {
     "name": "stdout",
     "output_type": "stream",
     "text": [
      "+-------------------+------------+---------+--------------+---------+------+----------------+-----------------+----+-----------+-------------------+------------------+------------------------------------------------------------------------------------------------------------------------+-----------------------------------------------+\n",
      "|host               |id.orig_h   |id.orig_p|id.resp_h     |id.resp_p|method|request_body_len|response_body_len|tags|trans_depth|ts                 |uid               |uri                                                                                                                     |user_agent                                     |\n",
      "+-------------------+------------+---------+--------------+---------+------+----------------+-----------------+----+-----------+-------------------+------------------+------------------------------------------------------------------------------------------------------------------------+-----------------------------------------------+\n",
      "|mirrors.wolfpaw.com|172.16.0.134|57768    |208.77.198.252|80       |GET   |0               |548850           |[]  |1          |1.635631401178927E9|CXNiWOvh52xqlSj0h |/rocky/8.4/PowerTools/x86_64/os/repodata/63f0deba7f3954b3d0c41910f6b4f497e6a2c321995e70e4b702fb93c7fe4b21-primary.xml.gz|libdnf (Rocky Linux 8.4; generic; Linux.x86_64)|\n",
      "|mirror.uepg.br     |172.16.0.134|33836    |143.208.160.8 |80       |GET   |0               |3105             |[]  |1          |1.635631404286619E9|CCjX6D3IGc3RVVsvSf|/fedora-epel//8/Modular/x86_64/repodata/repomd.xml                                                                      |libdnf (Rocky Linux 8.4; generic; Linux.x86_64)|\n",
      "+-------------------+------------+---------+--------------+---------+------+----------------+-----------------+----+-----------+-------------------+------------------+------------------------------------------------------------------------------------------------------------------------+-----------------------------------------------+\n",
      "only showing top 2 rows\n",
      "\n"
     ]
    }
   ],
   "source": [
    "df_http.show(2, False)"
   ]
  },
  {
   "cell_type": "code",
   "execution_count": 10,
   "id": "e75ff2c3-0fe7-451d-9b37-16590b656388",
   "metadata": {},
   "outputs": [
    {
     "name": "stdout",
     "output_type": "stream",
     "text": [
      "+------------+---------+---------------+---------+----------------+-----------------+-----------+-----------------+----+-----------+-------------------+------------------+-------+\n",
      "|id.orig_h   |id.orig_p|id.resp_h      |id.resp_p|request_body_len|response_body_len|status_code|status_msg       |tags|trans_depth|ts                 |uid               |version|\n",
      "+------------+---------+---------------+---------+----------------+-----------------+-----------+-----------------+----+-----------+-------------------+------------------+-------+\n",
      "|172.16.0.130|58468    |139.180.140.238|80       |0               |0                |301        |Moved Permanently|[]  |1          |1.635631196132812E9|CkArij2hV690t2Ddcl|1.1    |\n",
      "|172.16.0.130|48308    |185.119.173.142|80       |0               |0                |301        |Moved Permanently|[]  |1          |1.635631199858157E9|CMhjxP0T6S3A34saf |1.1    |\n",
      "+------------+---------+---------------+---------+----------------+-----------------+-----------+-----------------+----+-----------+-------------------+------------------+-------+\n",
      "only showing top 2 rows\n",
      "\n"
     ]
    }
   ],
   "source": [
    "df_http_response.show(2, False)"
   ]
  },
  {
   "cell_type": "code",
   "execution_count": 11,
   "id": "58b94451-11d5-419e-aa78-306c9294e3a4",
   "metadata": {},
   "outputs": [
    {
     "name": "stderr",
     "output_type": "stream",
     "text": [
      "[Stage 6:=========>                                                 (1 + 5) / 6]\r"
     ]
    },
    {
     "name": "stdout",
     "output_type": "stream",
     "text": [
      "+-----------+-----+\n",
      "|status_code|count|\n",
      "+-----------+-----+\n",
      "|301        |50891|\n",
      "|200        |14046|\n",
      "|302        |6486 |\n",
      "|403        |1915 |\n",
      "|404        |689  |\n",
      "|405        |458  |\n",
      "|308        |391  |\n",
      "|500        |325  |\n",
      "|400        |266  |\n",
      "|307        |252  |\n",
      "|503        |189  |\n",
      "|406        |181  |\n",
      "|303        |111  |\n",
      "|429        |89   |\n",
      "|520        |58   |\n",
      "|401        |34   |\n",
      "|502        |29   |\n",
      "|410        |18   |\n",
      "|521        |9    |\n",
      "|504        |9    |\n",
      "+-----------+-----+\n",
      "only showing top 20 rows\n",
      "\n"
     ]
    },
    {
     "name": "stderr",
     "output_type": "stream",
     "text": [
      "                                                                                \r"
     ]
    }
   ],
   "source": [
    "df_http_response.groupBy('status_code').count().sort(f.col('count').desc()).show(20, False)"
   ]
  },
  {
   "cell_type": "markdown",
   "id": "f3b5d59e-ec8d-489e-b457-5999e07d70a4",
   "metadata": {},
   "source": [
    "## DNS Analysis"
   ]
  },
  {
   "cell_type": "code",
   "execution_count": 12,
   "id": "70040105-09f1-4b30-9653-55001b959e3b",
   "metadata": {},
   "outputs": [],
   "source": [
    "df_dns = df2\\\n",
    ".filter(f.col('query').isNotNull())\\\n",
    ".select(\n",
    "        \"AA\", \"RA\", \"RD\", \"TC\", \"TTLs\", \"Z\", \"answers\", \"`id.orig_h`\", \"`id.orig_p`\", \"`id.resp_h`\", \"`id.resp_p`\",\n",
    "        \"proto\", \"query\", \"rcode\", \"rcode_name\", \"rejected\", \"trans_id\", \"ts\", \"uid\"\n",
    ")"
   ]
  },
  {
   "cell_type": "code",
   "execution_count": 13,
   "id": "f0aa02d6-f04c-47af-bb67-37a565c046d6",
   "metadata": {},
   "outputs": [
    {
     "name": "stderr",
     "output_type": "stream",
     "text": [
      "[Stage 10:>                                                         (0 + 1) / 1]\r"
     ]
    },
    {
     "name": "stdout",
     "output_type": "stream",
     "text": [
      "+-----+-----+----+-----+-----+---+---------------+------------+---------+----------+---------+-----+------------+-----+----------+--------+--------+-------------------+------------------+\n",
      "|   AA|   RA|  RD|   TC| TTLs|  Z|        answers|   id.orig_h|id.orig_p| id.resp_h|id.resp_p|proto|       query|rcode|rcode_name|rejected|trans_id|                 ts|               uid|\n",
      "+-----+-----+----+-----+-----+---+---------------+------------+---------+----------+---------+-----+------------+-----+----------+--------+--------+-------------------+------------------+\n",
      "|false|false|true|false| null|  0|           null|172.16.0.134|    35484|172.16.0.2|       53|  udp|pudim.com.br|    0|   NOERROR|   false|   59958|1.635631685424454E9|CeHptQ1GNHV5c6340h|\n",
      "|false| true|true|false|[5.0]|  0|[54.207.20.104]|172.16.0.134|    35484|172.16.0.2|       53|  udp|pudim.com.br|    0|   NOERROR|   false|   60720|1.635631685424452E9|CeHptQ1GNHV5c6340h|\n",
      "|false|false|true|false| null|  0|           null|172.16.0.134|    50861|172.16.0.2|       53|  udp|pudim.com.br|    0|   NOERROR|   false|   60417|1.635634832222794E9| CTXG322HuLUPytKwc|\n",
      "|false| true|true|false|[5.0]|  0|[54.207.20.104]|172.16.0.134|    50861|172.16.0.2|       53|  udp|pudim.com.br|    0|   NOERROR|   false|   18691|1.635634832222791E9| CTXG322HuLUPytKwc|\n",
      "+-----+-----+----+-----+-----+---+---------------+------------+---------+----------+---------+-----+------------+-----+----------+--------+--------+-------------------+------------------+\n",
      "\n"
     ]
    },
    {
     "name": "stderr",
     "output_type": "stream",
     "text": [
      "                                                                                \r"
     ]
    }
   ],
   "source": [
    "df_dns.filter(f.col('query').rlike('.*pudim.*')).show()"
   ]
  },
  {
   "cell_type": "code",
   "execution_count": 14,
   "id": "9f3a8825-7ee7-4394-8686-b59acfa0edc1",
   "metadata": {},
   "outputs": [
    {
     "name": "stderr",
     "output_type": "stream",
     "text": [
      "[Stage 11:================================================>         (5 + 1) / 6]\r"
     ]
    },
    {
     "name": "stdout",
     "output_type": "stream",
     "text": [
      "+--------------------------------+-----+\n",
      "|query                           |count|\n",
      "+--------------------------------+-----+\n",
      "|www.hugedomains.com             |126  |\n",
      "|registry-1.docker.io            |102  |\n",
      "|www.google.com                  |90   |\n",
      "|survey-smiles.com               |86   |\n",
      "|www.facebook.com                |56   |\n",
      "|pages.ebay.com                  |52   |\n",
      "|www.tribpub.com                 |50   |\n",
      "|www.ebay.com                    |48   |\n",
      "|auth.docker.io                  |46   |\n",
      "|mirrors.rockylinux.org          |46   |\n",
      "|accounts.google.com             |46   |\n",
      "|www.noripolice.com              |38   |\n",
      "|secure.jbs.elsevierhealth.com   |34   |\n",
      "|gcr.io                          |34   |\n",
      "|production.cloudflare.docker.com|30   |\n",
      "|www.microsoft.com               |30   |\n",
      "|www.gov.uk                      |28   |\n",
      "|dan.com                         |28   |\n",
      "|mirror.uepg.br                  |24   |\n",
      "|stopnote.vhostgo.com            |24   |\n",
      "+--------------------------------+-----+\n",
      "only showing top 20 rows\n",
      "\n"
     ]
    },
    {
     "name": "stderr",
     "output_type": "stream",
     "text": [
      "                                                                                \r"
     ]
    }
   ],
   "source": [
    "df_dns.groupBy('query').count().sort(f.col('count').desc()).show(20, False)"
   ]
  },
  {
   "cell_type": "code",
   "execution_count": 15,
   "id": "59811836-f85a-4729-9332-71c4ae49e5f5",
   "metadata": {},
   "outputs": [
    {
     "name": "stdout",
     "output_type": "stream",
     "text": [
      "+-----+----+-----+-----+----------+---+---------------------------------------+------------+---------+----------+---------+-----+------------------------+-----+----------+--------+--------+-------------------+------------------+\n",
      "|AA   |RA  |RD   |TC   |TTLs      |Z  |answers                                |id.orig_h   |id.orig_p|id.resp_h |id.resp_p|proto|query                   |rcode|rcode_name|rejected|trans_id|ts                 |uid               |\n",
      "+-----+----+-----+-----+----------+---+---------------------------------------+------------+---------+----------+---------+-----+------------------------+-----+----------+--------+--------+-------------------+------------------+\n",
      "|false|true|false|false|[5.0, 5.0]|0  |[cherokeeheritage.org, 192.124.249.157]|172.16.0.130|55194    |172.16.0.2|53       |udp  |www.cherokeeheritage.org|0    |NOERROR   |false   |18053   |1.635631189704933E9|CBc1z02vdwFTL92Ori|\n",
      "|false|true|false|false|[5.0]     |0  |[cherokeeheritage.org]                 |172.16.0.130|55194    |172.16.0.2|53       |udp  |www.cherokeeheritage.org|0    |NOERROR   |false   |53639   |1.635631189707471E9|CBc1z02vdwFTL92Ori|\n",
      "+-----+----+-----+-----+----------+---+---------------------------------------+------------+---------+----------+---------+-----+------------------------+-----+----------+--------+--------+-------------------+------------------+\n",
      "only showing top 2 rows\n",
      "\n"
     ]
    }
   ],
   "source": [
    "df_dns.show(2, False)"
   ]
  },
  {
   "cell_type": "markdown",
   "id": "e7f59893-298f-47de-8602-58a280f24c99",
   "metadata": {},
   "source": [
    "## SSL Analysis"
   ]
  },
  {
   "cell_type": "code",
   "execution_count": 16,
   "id": "5acdbab5-c722-4fdc-bc00-87726c3a071f",
   "metadata": {},
   "outputs": [],
   "source": [
    "df_ssl = df2\\\n",
    ".filter(f.col('cipher').isNotNull())\\\n",
    ".select(\n",
    "        \"cipher\", \"curve\", \"established\", \"`id.orig_h`\", \"`id.orig_p`\", \"`id.resp_h`\", \"`id.resp_p`\", \"resumed\",\n",
    "        \"ts\", \"uid\", \"version\"\n",
    ")"
   ]
  },
  {
   "cell_type": "code",
   "execution_count": 17,
   "id": "1703297a-6cf4-4c95-9e17-1fdec18756eb",
   "metadata": {},
   "outputs": [
    {
     "name": "stdout",
     "output_type": "stream",
     "text": [
      "+-------------------------------------+---------+-----------+------------+---------+---------------+---------+-------+-------------------+------------------+-------+\n",
      "|cipher                               |curve    |established|id.orig_h   |id.orig_p|id.resp_h      |id.resp_p|resumed|ts                 |uid               |version|\n",
      "+-------------------------------------+---------+-----------+------------+---------+---------------+---------+-------+-------------------+------------------+-------+\n",
      "|TLS_ECDHE_RSA_WITH_AES_256_GCM_SHA384|secp256r1|false      |172.16.0.130|33122    |185.119.173.142|443      |false  |1.635631200276187E9|CIuDS2395WzcrX3AA2|TLSv12 |\n",
      "|TLS_ECDHE_RSA_WITH_AES_256_GCM_SHA384|secp256r1|false      |172.16.0.130|33122    |185.119.173.142|443      |false  |1.635631200276187E9|CIuDS2395WzcrX3AA2|TLSv12 |\n",
      "+-------------------------------------+---------+-----------+------------+---------+---------------+---------+-------+-------------------+------------------+-------+\n",
      "only showing top 2 rows\n",
      "\n"
     ]
    }
   ],
   "source": [
    "df_ssl.show(2, False)"
   ]
  },
  {
   "cell_type": "code",
   "execution_count": 18,
   "id": "571ecf5a-bf59-404c-b09a-de375aa8af29",
   "metadata": {},
   "outputs": [
    {
     "name": "stderr",
     "output_type": "stream",
     "text": [
      "[Stage 15:================================================>         (5 + 1) / 6]\r"
     ]
    },
    {
     "name": "stdout",
     "output_type": "stream",
     "text": [
      "+-------+-----+\n",
      "|version|count|\n",
      "+-------+-----+\n",
      "|TLSv13 |12045|\n",
      "|TLSv12 |6003 |\n",
      "|TLSv10 |1    |\n",
      "+-------+-----+\n",
      "\n"
     ]
    },
    {
     "name": "stderr",
     "output_type": "stream",
     "text": [
      "                                                                                \r"
     ]
    }
   ],
   "source": [
    "df_ssl.groupBy('version').count().sort(f.col('count').desc()).show(20, False)"
   ]
  },
  {
   "cell_type": "code",
   "execution_count": null,
   "id": "90b75fed-e640-4fdd-9de4-5dd0c25a8fea",
   "metadata": {},
   "outputs": [],
   "source": []
  }
 ],
 "metadata": {
  "kernelspec": {
   "display_name": "Python 3 (ipykernel)",
   "language": "python",
   "name": "python3"
  },
  "language_info": {
   "codemirror_mode": {
    "name": "ipython",
    "version": 3
   },
   "file_extension": ".py",
   "mimetype": "text/x-python",
   "name": "python",
   "nbconvert_exporter": "python",
   "pygments_lexer": "ipython3",
   "version": "3.7.3"
  }
 },
 "nbformat": 4,
 "nbformat_minor": 5
}
